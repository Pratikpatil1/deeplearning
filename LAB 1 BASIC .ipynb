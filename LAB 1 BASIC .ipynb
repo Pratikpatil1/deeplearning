{
 "cells": [
  {
   "cell_type": "code",
   "execution_count": 1,
   "metadata": {},
   "outputs": [
    {
     "name": "stdout",
     "output_type": "stream",
     "text": [
      "Shakesphere gave the best theatrics to the world\n"
     ]
    }
   ],
   "source": [
    "sentence=\"Shakesphere gave the best theatrics to the world\"           #printing a string \n",
    "print(sentence)"
   ]
  },
  {
   "cell_type": "code",
   "execution_count": 2,
   "metadata": {},
   "outputs": [
    {
     "name": "stdout",
     "output_type": "stream",
     "text": [
      "William Shakespeare (bapt. 26 April 1564 – 23 April 1616)[a] was an English poet, playwright, and actor, \n",
      "widely regarded as the greatest writer in the English language and the world's greatest dramatist.[2][3][4] \n",
      "He is often called England's national poet and the \"Bard of Avon\" (or simply \"the Bard\").[5][b] His extant works,\n",
      "including collaborations, consist of some 39 plays,[c] 154 sonnets, two long narrative poems, and a few other verses, \n",
      "some of uncertain authorship. His plays have been translated into every major living language and are performed more often than those of any other playwright.[7]\n",
      "Shakespeare was born and raised in Stratford-upon-Avon, Warwickshire. At the age of 18, he married Anne Hathaway, with whom he had three children: Susanna and twins Hamnet and Judith. Sometime between 1585 and 1592, he began a successful career in London as an actor, writer, and part-owner of a playing company called the Lord Chamberlain's Men, later known as the King's Men. At age 49 (around 1613), he appears to have retired to Stratford, where he died three years later. Few records of Shakespeare's private life survive; this has stimulated considerable speculation about such matters as his physical appearance, his sexuality, his religious beliefs, and whether the works attributed to him were written by others.[8][9][10]\n"
     ]
    }
   ],
   "source": [
    "passage=\"\"\"William Shakespeare (bapt. 26 April 1564 – 23 April 1616)[a] was an English poet, playwright, and actor, \n",
    "widely regarded as the greatest writer in the English language and the world's greatest dramatist.[2][3][4] \n",
    "He is often called England's national poet and the \"Bard of Avon\" (or simply \"the Bard\").[5][b] His extant works,\n",
    "including collaborations, consist of some 39 plays,[c] 154 sonnets, two long narrative poems, and a few other verses, \n",
    "some of uncertain authorship. His plays have been translated into every major living language and are performed more often than those of any other playwright.[7]\n",
    "Shakespeare was born and raised in Stratford-upon-Avon,  Warwickshire. At the age of 18, he married Anne Hathaway, with whom he had three children: Susanna and twins Hamnet and Judith. Sometime between 1585 and 1592, he began a successful career in London as an actor, writer, and part-owner of a playing company called the Lord Chamberlain's Men, later known as the King's Men. At age 49 (around 1613), he appears to have retired to Stratford, where he died three years later. Few records of Shakespeare's private life survive; this has stimulated considerable speculation about such matters as his physical appearance, his sexuality, his religious beliefs, and whether the works attributed to him were written by others.[8][9][10]\"\"\"\n",
    "print(passage)  #printing a multi line string using tripple commas "
   ]
  },
  {
   "cell_type": "code",
   "execution_count": 3,
   "metadata": {},
   "outputs": [
    {
     "name": "stdout",
     "output_type": "stream",
     "text": [
      "hello this is didn't good \n",
      "hello this is didn't good \n"
     ]
    }
   ],
   "source": [
    "new=\"hello this is didn't good \" #double quotes and tripple quotes give the same output \n",
    "print(new)\n",
    "new='''hello this is didn't good '''\n",
    "print(new)"
   ]
  },
  {
   "cell_type": "code",
   "execution_count": 2,
   "metadata": {},
   "outputs": [
    {
     "name": "stdout",
     "output_type": "stream",
     "text": [
      "['milan', 'manchester', 'barcelona', 'madrid', 'venice', 'new york']\n"
     ]
    },
    {
     "data": {
      "text/plain": [
       "'madrid'"
      ]
     },
     "execution_count": 2,
     "metadata": {},
     "output_type": "execute_result"
    }
   ],
   "source": [
    "city=['milan','manchester','barcelona','madrid','venice','new york'] #creating a list that has all the cities in europe \n",
    "print(city)\n",
    "city[3] #fetching value from the list city through index "
   ]
  },
  {
   "cell_type": "code",
   "execution_count": 3,
   "metadata": {},
   "outputs": [],
   "source": [
    "city.append('tuskany') #appending a new value name tuskany to city"
   ]
  },
  {
   "cell_type": "code",
   "execution_count": 5,
   "metadata": {},
   "outputs": [
    {
     "name": "stdout",
     "output_type": "stream",
     "text": [
      "['milan', 'manchester', 'barcelona', 'madrid', 'venice', 'new york', 'tuskany']\n"
     ]
    }
   ],
   "source": [
    "print(city) #printing the list "
   ]
  },
  {
   "cell_type": "code",
   "execution_count": 6,
   "metadata": {},
   "outputs": [
    {
     "name": "stdout",
     "output_type": "stream",
     "text": [
      "('hello', 'hey')\n"
     ]
    }
   ],
   "source": [
    "tuple1=(\"hello\",\"hey\") #creating a tuple and adding strings \n",
    "print(tuple1)"
   ]
  },
  {
   "cell_type": "code",
   "execution_count": 10,
   "metadata": {},
   "outputs": [
    {
     "name": "stdout",
     "output_type": "stream",
     "text": [
      "{'sehwag': 'cricket', 'sania mirza': 'table tennis', 'sania': 'badminton'}\n"
     ]
    }
   ],
   "source": [
    "dictionary={'sehwag':'cricket', 'sania mirza':'table tennis', 'sania':'badminton'}\n",
    "print(dictionary) #creating a dictionary "
   ]
  },
  {
   "cell_type": "code",
   "execution_count": 13,
   "metadata": {},
   "outputs": [
    {
     "data": {
      "text/plain": [
       "7"
      ]
     },
     "execution_count": 13,
     "metadata": {},
     "output_type": "execute_result"
    }
   ],
   "source": [
    "len(city)"
   ]
  }
 ],
 "metadata": {
  "kernelspec": {
   "display_name": "Python 3",
   "language": "python",
   "name": "python3"
  },
  "language_info": {
   "codemirror_mode": {
    "name": "ipython",
    "version": 3
   },
   "file_extension": ".py",
   "mimetype": "text/x-python",
   "name": "python",
   "nbconvert_exporter": "python",
   "pygments_lexer": "ipython3",
   "version": "3.7.4"
  }
 },
 "nbformat": 4,
 "nbformat_minor": 2
}
