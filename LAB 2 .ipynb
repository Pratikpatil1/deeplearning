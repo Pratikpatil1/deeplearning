{
 "cells": [
  {
   "cell_type": "code",
   "execution_count": 5,
   "metadata": {},
   "outputs": [
    {
     "ename": "SyntaxError",
     "evalue": "invalid syntax (<ipython-input-5-0e3b16978ee7>, line 1)",
     "output_type": "error",
     "traceback": [
      "\u001b[1;36m  File \u001b[1;32m\"<ipython-input-5-0e3b16978ee7>\"\u001b[1;36m, line \u001b[1;32m1\u001b[0m\n\u001b[1;33m    range?   #range function description\u001b[0m\n\u001b[1;37m         ^\u001b[0m\n\u001b[1;31mSyntaxError\u001b[0m\u001b[1;31m:\u001b[0m invalid syntax\n"
     ]
    }
   ],
   "source": [
    "range?   #range function description"
   ]
  },
  {
   "cell_type": "code",
   "execution_count": 6,
   "metadata": {},
   "outputs": [
    {
     "name": "stdout",
     "output_type": "stream",
     "text": [
      "range(0, 10)\n"
     ]
    }
   ],
   "source": [
    "a=range(0,10)   #range function for a given interval 0 to 10 \n",
    "print(a)"
   ]
  },
  {
   "cell_type": "code",
   "execution_count": 7,
   "metadata": {},
   "outputs": [
    {
     "name": "stdout",
     "output_type": "stream",
     "text": [
      "\n",
      " The winter is good \n",
      "\n",
      " The winter is good \n",
      "\n",
      " The winter is good \n",
      "\n",
      " The winter is good \n",
      "\n",
      " The winter is good \n"
     ]
    }
   ],
   "source": [
    "for x in range (0,5):  #print a string 5 times\n",
    "    print(\"\\n The winter is good \")"
   ]
  },
  {
   "cell_type": "code",
   "execution_count": 21,
   "metadata": {},
   "outputs": [
    {
     "name": "stdout",
     "output_type": "stream",
     "text": [
      "1\n",
      "8\n",
      "27\n",
      "64\n",
      "125\n",
      "216\n",
      "343\n",
      "512\n",
      "729\n",
      "1000\n",
      "1331\n",
      "1728\n",
      "2197\n",
      "2744\n",
      "3375\n",
      "4096\n",
      "4913\n",
      "5832\n",
      "6859\n",
      "0.0041141510009765625\n"
     ]
    }
   ],
   "source": [
    "#find the cube of numbers from 1 to 10 \n",
    "import time                       #importing the time library\n",
    "tic=time.time()                   #setting the start time \n",
    "for x in range (1,20):            #range from 1 to 20 \n",
    "    cube=x*x*x                    #calulating cube\n",
    "    print(cube)                   \n",
    "tac=time.time()                   \n",
    "totaltime=tac-tic                 #finding the time  \n",
    "print(totaltime)"
   ]
  },
  {
   "cell_type": "code",
   "execution_count": 22,
   "metadata": {},
   "outputs": [
    {
     "name": "stdout",
     "output_type": "stream",
     "text": [
      "0\n",
      "1\n",
      "8\n",
      "27\n",
      "64\n",
      "125\n",
      "216\n",
      "343\n",
      "512\n",
      "729\n",
      "1000\n",
      "1331\n",
      "1728\n",
      "2197\n",
      "2744\n",
      "3375\n",
      "4096\n",
      "4913\n",
      "5832\n",
      "6859\n",
      "the total time take by while loop is  0.0009992122650146484\n"
     ]
    }
   ],
   "source": [
    "import time\n",
    "tic=time.time()\n",
    "i=0\n",
    "while i<20:\n",
    "    print(i**3)\n",
    "    i=i+1\n",
    "tac=time.time()\n",
    "totaltime=tac-tic\n",
    "print(\"the total time take by while loop is \",totaltime)"
   ]
  },
  {
   "cell_type": "code",
   "execution_count": 24,
   "metadata": {},
   "outputs": [],
   "source": [
    "# functions in pythons \n",
    "def mycubic(x):\n",
    "    cube=x*x*x\n",
    "    return cube\n",
    "   \n",
    "    "
   ]
  },
  {
   "cell_type": "code",
   "execution_count": 29,
   "metadata": {},
   "outputs": [
    {
     "data": {
      "text/plain": [
       "3375"
      ]
     },
     "execution_count": 29,
     "metadata": {},
     "output_type": "execute_result"
    }
   ],
   "source": [
    "mycubic(15)"
   ]
  },
  {
   "cell_type": "code",
   "execution_count": 52,
   "metadata": {},
   "outputs": [
    {
     "name": "stdout",
     "output_type": "stream",
     "text": [
      "The square root is 2.0\n",
      "The factorial is  120\n",
      "The gretest common divisor is 5\n",
      "7.38905609893065\n",
      "16.0\n"
     ]
    }
   ],
   "source": [
    "import math as m\n",
    "num=m.sqrt(4)\n",
    "print(\"The square root is\",num) #square root of the number\n",
    "num1=m.factorial(5) #factorial of the number \n",
    "print(\"The factorial is \", num1)\n",
    "print(\"The gretest common divisor is\",m.gcd(15,5)) #gretest common divisor \n",
    "a=2\n",
    "print(m.exp(a)) # exponential \n",
    "print(m.pow(2,4))"
   ]
  },
  {
   "cell_type": "code",
   "execution_count": 58,
   "metadata": {},
   "outputs": [],
   "source": [
    "#explore how to define a default value of function \n",
    "#document the error"
   ]
  },
  {
   "cell_type": "code",
   "execution_count": null,
   "metadata": {},
   "outputs": [],
   "source": [
    "import math as m"
   ]
  },
  {
   "cell_type": "code",
   "execution_count": null,
   "metadata": {},
   "outputs": [],
   "source": [
    "num=m.sqrt(4)\n",
    "print(\"The square root is\",num)"
   ]
  },
  {
   "cell_type": "code",
   "execution_count": null,
   "metadata": {},
   "outputs": [],
   "source": []
  }
 ],
 "metadata": {
  "kernelspec": {
   "display_name": "Python 3",
   "language": "python",
   "name": "python3"
  },
  "language_info": {
   "codemirror_mode": {
    "name": "ipython",
    "version": 3
   },
   "file_extension": ".py",
   "mimetype": "text/x-python",
   "name": "python",
   "nbconvert_exporter": "python",
   "pygments_lexer": "ipython3",
   "version": "3.7.4"
  }
 },
 "nbformat": 4,
 "nbformat_minor": 2
}
